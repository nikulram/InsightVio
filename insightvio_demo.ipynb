{
 "cells": [
  {
   "cell_type": "code",
   "execution_count": null,
   "id": "cb03e9f9",
   "metadata": {
    "vscode": {
     "languageId": "plaintext"
    }
   },
   "outputs": [],
   "source": [
    "# Cell 1: Import core modules\n",
    "from insightvio.explainers import InsightExplainer\n",
    "from insightvio.visualizer import InsightVisualizer\n",
    "from sklearn.datasets import load_breast_cancer\n",
    "from sklearn.ensemble import RandomForestClassifier\n",
    "from sklearn.model_selection import train_test_split\n",
    "import pandas as pd\n"
   ]
  },
  {
   "cell_type": "code",
   "execution_count": null,
   "id": "c8546d96",
   "metadata": {
    "vscode": {
     "languageId": "plaintext"
    }
   },
   "outputs": [],
   "source": [
    "# Cell 2: Load sample data (you can replace this later with your own)\n",
    "data = load_breast_cancer()\n",
    "X = pd.DataFrame(data.data, columns=data.feature_names)\n",
    "y = data.target\n",
    "X_train, X_test, y_train, y_test = train_test_split(X, y, test_size=0.2, random_state=42)\n"
   ]
  },
  {
   "cell_type": "code",
   "execution_count": null,
   "id": "031f9f22",
   "metadata": {
    "vscode": {
     "languageId": "plaintext"
    }
   },
   "outputs": [],
   "source": [
    "# Cell 3: Train model\n",
    "model = RandomForestClassifier(n_estimators=100, random_state=42)\n",
    "model.fit(X_train, y_train)\n"
   ]
  },
  {
   "cell_type": "code",
   "execution_count": null,
   "id": "fb9a37e7",
   "metadata": {
    "vscode": {
     "languageId": "plaintext"
    }
   },
   "outputs": [],
   "source": [
    "# Cell 4: Setup InsightVio explainer\n",
    "explainer = InsightExplainer(model=model, data=X_train, mode='classification')\n",
    "visualizer = InsightVisualizer()\n"
   ]
  },
  {
   "cell_type": "code",
   "execution_count": null,
   "id": "13c6a0b6",
   "metadata": {
    "vscode": {
     "languageId": "plaintext"
    }
   },
   "outputs": [],
   "source": [
    "# Cell 5: Pick one test instance to explain\n",
    "instance = X_test.iloc[5:6]  # Explain the 6th test row\n",
    "instance\n"
   ]
  },
  {
   "cell_type": "code",
   "execution_count": null,
   "id": "f2344cf7",
   "metadata": {
    "vscode": {
     "languageId": "plaintext"
    }
   },
   "outputs": [],
   "source": [
    "# Cell 6: LIME Explanation\n",
    "lime_exp = explainer.explain_instance_with_lime(instance)\n",
    "visualizer.plot_lime_explanation(lime_exp)\n"
   ]
  },
  {
   "cell_type": "code",
   "execution_count": null,
   "id": "d3fc8515",
   "metadata": {
    "vscode": {
     "languageId": "plaintext"
    }
   },
   "outputs": [],
   "source": [
    "# Cell 7: SHAP Explanation\n",
    "shap_values = explainer.explain_instance_with_shap(instance)\n",
    "visualizer.plot_shap_explanation(shap_values, instance.columns, instance.values[0])\n"
   ]
  }
 ],
 "metadata": {
  "language_info": {
   "name": "python"
  }
 },
 "nbformat": 4,
 "nbformat_minor": 5
}
