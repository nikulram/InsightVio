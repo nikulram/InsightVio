{
 "cells": [
  {
   "cell_type": "markdown",
   "id": "e317d4cd",
   "metadata": {},
   "source": [
    "# InsightVio: Explainable AI for Breast Cancer Prediction\n",
    "**Author**: Nikul Ram  \n",
    "**Version**: August 2025  \n",
    "**Purpose**: Demonstrate local feature attribution using SHAP and LIME on a RandomForest model trained on the Breast Cancer dataset.\n"
   ]
  },
  {
   "cell_type": "code",
   "execution_count": null,
   "id": "9e8ce69c",
   "metadata": {},
   "outputs": [],
   "source": [
    "\n",
    "# Add project root to sys.path so insightvio modules can be found\n",
    "import sys\n",
    "import os\n",
    "\n",
    "PROJECT_ROOT = os.path.abspath(os.path.join(\"..\"))  # one level up from /notebooks\n",
    "if PROJECT_ROOT not in sys.path:\n",
    "    sys.path.insert(0, PROJECT_ROOT)\n",
    "\n",
    "# Load core InsightVio modules\n",
    "from insightvio.data_loader import load_breast_cancer_data\n",
    "from insightvio.model_trainer import train_random_forest\n",
    "from insightvio.explainer import InsightExplainer\n",
    "from insightvio.visualizer import InsightVisualizer\n"
   ]
  },
  {
   "cell_type": "code",
   "execution_count": null,
   "id": "8fec9630",
   "metadata": {},
   "outputs": [],
   "source": [
    "# Load the breast cancer dataset\n",
    "X_train, X_test, y_train, y_test, feature_names = load_breast_cancer_data()\n",
    "print(f\"Training set shape: {X_train.shape}\")\n",
    "print(f\"Test set shape: {X_test.shape}\")\n"
   ]
  },
  {
   "cell_type": "code",
   "execution_count": null,
   "id": "423bba35",
   "metadata": {},
   "outputs": [],
   "source": [
    "# Train a Random Forest model\n",
    "model = train_random_forest(X_train, y_train)\n"
   ]
  },
  {
   "cell_type": "code",
   "execution_count": null,
   "id": "d7c644fa",
   "metadata": {},
   "outputs": [],
   "source": [
    "# Initialize explainer and visualizer\n",
    "explainer = InsightExplainer(model, X_train, feature_names)\n",
    "visualizer = InsightVisualizer()\n"
   ]
  },
  {
   "cell_type": "code",
   "execution_count": null,
   "id": "4a98f0fd",
   "metadata": {},
   "outputs": [],
   "source": [
    "# Select one instance\n",
    "instance = X_test[0].reshape(1, -1)\n",
    "\n",
    "# Run SHAP explanation\n",
    "shap_values, base_value = explainer.explain_with_shap(instance)\n",
    "\n",
    "# Visualize SHAP results\n",
    "visualizer.plot_shap_explanation(shap_values, feature_names, X_test[0])\n"
   ]
  },
  {
   "cell_type": "code",
   "execution_count": null,
   "id": "1e47b977",
   "metadata": {},
   "outputs": [],
   "source": [
    "# Run LIME explanation\n",
    "lime_explanation = explainer.explain_with_lime(X_test[0])\n",
    "\n",
    "# Visualize LIME results\n",
    "visualizer.plot_lime_explanation(lime_explanation)\n"
   ]
  },
  {
   "cell_type": "markdown",
   "id": "ec863233",
   "metadata": {},
   "source": [
    "## Summary\n",
    "\n",
    "- InsightVio provided consistent explanations using both SHAP and LIME\n",
    "- The model is interpretable and visually explainable\n",
    "- This workflow is now reusable across other domains and datasets (via CLI or notebook)\n",
    "- Future work: integrate this into Streamlit or Flask app for clinical/research use\n"
   ]
  }
 ],
 "metadata": {
  "kernelspec": {
   "display_name": "Python 3",
   "language": "python",
   "name": "python3"
  },
  "language_info": {
   "codemirror_mode": {
    "name": "ipython",
    "version": 3
   },
   "file_extension": ".py",
   "mimetype": "text/x-python",
   "name": "python",
   "nbconvert_exporter": "python",
   "pygments_lexer": "ipython3",
   "version": "3.11.5"
  }
 },
 "nbformat": 4,
 "nbformat_minor": 5
}
